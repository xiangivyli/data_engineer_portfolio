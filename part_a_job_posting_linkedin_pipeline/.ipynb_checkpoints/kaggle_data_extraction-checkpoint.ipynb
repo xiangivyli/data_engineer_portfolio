{
 "cells": [
  {
   "cell_type": "markdown",
   "metadata": {},
   "source": [
    "# Set the environment"
   ]
  },
  {
   "cell_type": "code",
   "execution_count": 1,
   "metadata": {},
   "outputs": [
    {
     "name": "stdout",
     "output_type": "stream",
     "text": [
      "Collecting opendatasets\n",
      "  Obtaining dependency information for opendatasets from https://files.pythonhosted.org/packages/00/e7/12300c2f886b846375c78a4f32c0ae1cd20bdcf305b5ac45b8d7eceda3ec/opendatasets-0.1.22-py3-none-any.whl.metadata\n",
      "  Downloading opendatasets-0.1.22-py3-none-any.whl.metadata (9.2 kB)\n",
      "Requirement already satisfied: tqdm in /home/xiangivyli/anaconda3/lib/python3.11/site-packages (from opendatasets) (4.65.0)\n",
      "Collecting kaggle (from opendatasets)\n",
      "  Downloading kaggle-1.6.6.tar.gz (84 kB)\n",
      "\u001b[2K     \u001b[90m━━━━━━━━━━━━━━━━━━━━━━━━━━━━━━━━━━━━━━━━\u001b[0m \u001b[32m84.6/84.6 kB\u001b[0m \u001b[31m5.7 MB/s\u001b[0m eta \u001b[36m0:00:00\u001b[0m\n",
      "\u001b[?25h  Preparing metadata (setup.py) ... \u001b[?25ldone\n",
      "\u001b[?25hRequirement already satisfied: click in /home/xiangivyli/anaconda3/lib/python3.11/site-packages (from opendatasets) (8.0.4)\n",
      "Requirement already satisfied: six>=1.10 in /home/xiangivyli/anaconda3/lib/python3.11/site-packages (from kaggle->opendatasets) (1.16.0)\n",
      "Requirement already satisfied: certifi in /home/xiangivyli/anaconda3/lib/python3.11/site-packages (from kaggle->opendatasets) (2023.7.22)\n",
      "Requirement already satisfied: python-dateutil in /home/xiangivyli/anaconda3/lib/python3.11/site-packages (from kaggle->opendatasets) (2.8.2)\n",
      "Requirement already satisfied: requests in /home/xiangivyli/anaconda3/lib/python3.11/site-packages (from kaggle->opendatasets) (2.31.0)\n",
      "Requirement already satisfied: python-slugify in /home/xiangivyli/anaconda3/lib/python3.11/site-packages (from kaggle->opendatasets) (5.0.2)\n",
      "Requirement already satisfied: urllib3 in /home/xiangivyli/anaconda3/lib/python3.11/site-packages (from kaggle->opendatasets) (1.26.16)\n",
      "Requirement already satisfied: bleach in /home/xiangivyli/anaconda3/lib/python3.11/site-packages (from kaggle->opendatasets) (4.1.0)\n",
      "Requirement already satisfied: packaging in /home/xiangivyli/anaconda3/lib/python3.11/site-packages (from bleach->kaggle->opendatasets) (23.1)\n",
      "Requirement already satisfied: webencodings in /home/xiangivyli/anaconda3/lib/python3.11/site-packages (from bleach->kaggle->opendatasets) (0.5.1)\n",
      "Requirement already satisfied: text-unidecode>=1.3 in /home/xiangivyli/anaconda3/lib/python3.11/site-packages (from python-slugify->kaggle->opendatasets) (1.3)\n",
      "Requirement already satisfied: charset-normalizer<4,>=2 in /home/xiangivyli/anaconda3/lib/python3.11/site-packages (from requests->kaggle->opendatasets) (2.0.4)\n",
      "Requirement already satisfied: idna<4,>=2.5 in /home/xiangivyli/anaconda3/lib/python3.11/site-packages (from requests->kaggle->opendatasets) (3.4)\n",
      "Downloading opendatasets-0.1.22-py3-none-any.whl (15 kB)\n",
      "Building wheels for collected packages: kaggle\n",
      "  Building wheel for kaggle (setup.py) ... \u001b[?25ldone\n",
      "\u001b[?25h  Created wheel for kaggle: filename=kaggle-1.6.6-py3-none-any.whl size=111945 sha256=37f59fb3942938b11d4bbf127125aab38c24f3855946c04efe61a7858e5047c9\n",
      "  Stored in directory: /home/xiangivyli/.cache/pip/wheels/97/06/54/3d44857e6aa73d66d0174f29389e7ea70c007105797e6ec05c\n",
      "Successfully built kaggle\n",
      "Installing collected packages: kaggle, opendatasets\n",
      "Successfully installed kaggle-1.6.6 opendatasets-0.1.22\n",
      "Note: you may need to restart the kernel to use updated packages.\n"
     ]
    }
   ],
   "source": [
    "%pip install opendatasets"
   ]
  },
  {
   "cell_type": "code",
   "execution_count": 12,
   "metadata": {},
   "outputs": [
    {
     "name": "stdout",
     "output_type": "stream",
     "text": [
      "Requirement already satisfied: pyspark in /home/xiangivyli/spark/spark-3.3.2-bin-hadoop3/python (3.3.2)\n",
      "Collecting pyspark\n",
      "  Downloading pyspark-3.5.1.tar.gz (317.0 MB)\n",
      "\u001b[2K     \u001b[90m━━━━━━━━━━━━━━━━━━━━━━━━━━━━━━━━━━━━━━━\u001b[0m \u001b[32m317.0/317.0 MB\u001b[0m \u001b[31m2.7 MB/s\u001b[0m eta \u001b[36m0:00:00\u001b[0m00:01\u001b[0m00:01\u001b[0m\n",
      "\u001b[?25h  Preparing metadata (setup.py) ... \u001b[?25ldone\n",
      "\u001b[?25hRequirement already satisfied: pandas in /home/xiangivyli/anaconda3/lib/python3.11/site-packages (2.0.3)\n",
      "Collecting pandas\n",
      "  Obtaining dependency information for pandas from https://files.pythonhosted.org/packages/d4/47/1ccf9f62d2674d3ca3e95452c5f9dd114234d1535dec77c96528bf6a31fc/pandas-2.2.1-cp311-cp311-manylinux_2_17_x86_64.manylinux2014_x86_64.whl.metadata\n",
      "  Downloading pandas-2.2.1-cp311-cp311-manylinux_2_17_x86_64.manylinux2014_x86_64.whl.metadata (19 kB)\n",
      "Collecting py4j==0.10.9.7 (from pyspark)\n",
      "  Obtaining dependency information for py4j==0.10.9.7 from https://files.pythonhosted.org/packages/10/30/a58b32568f1623aaad7db22aa9eafc4c6c194b429ff35bdc55ca2726da47/py4j-0.10.9.7-py2.py3-none-any.whl.metadata\n",
      "  Downloading py4j-0.10.9.7-py2.py3-none-any.whl.metadata (1.5 kB)\n",
      "Requirement already satisfied: numpy<2,>=1.23.2 in /home/xiangivyli/anaconda3/lib/python3.11/site-packages (from pandas) (1.24.3)\n",
      "Requirement already satisfied: python-dateutil>=2.8.2 in /home/xiangivyli/anaconda3/lib/python3.11/site-packages (from pandas) (2.8.2)\n",
      "Requirement already satisfied: pytz>=2020.1 in /home/xiangivyli/anaconda3/lib/python3.11/site-packages (from pandas) (2023.3.post1)\n",
      "Requirement already satisfied: tzdata>=2022.7 in /home/xiangivyli/anaconda3/lib/python3.11/site-packages (from pandas) (2023.3)\n",
      "Requirement already satisfied: six>=1.5 in /home/xiangivyli/anaconda3/lib/python3.11/site-packages (from python-dateutil>=2.8.2->pandas) (1.16.0)\n",
      "Downloading py4j-0.10.9.7-py2.py3-none-any.whl (200 kB)\n",
      "\u001b[2K   \u001b[90m━━━━━━━━━━━━━━━━━━━━━━━━━━━━━━━━━━━━━━━━\u001b[0m \u001b[32m200.5/200.5 kB\u001b[0m \u001b[31m30.4 MB/s\u001b[0m eta \u001b[36m0:00:00\u001b[0m\n",
      "\u001b[?25hDownloading pandas-2.2.1-cp311-cp311-manylinux_2_17_x86_64.manylinux2014_x86_64.whl (13.0 MB)\n",
      "\u001b[2K   \u001b[90m━━━━━━━━━━━━━━━━━━━━━━━━━━━━━━━━━━━━━━━━\u001b[0m \u001b[32m13.0/13.0 MB\u001b[0m \u001b[31m77.6 MB/s\u001b[0m eta \u001b[36m0:00:00\u001b[0m:00:01\u001b[0m00:01\u001b[0m\n",
      "\u001b[?25hBuilding wheels for collected packages: pyspark\n",
      "  Building wheel for pyspark (setup.py) ... \u001b[?25ldone\n",
      "\u001b[?25h  Created wheel for pyspark: filename=pyspark-3.5.1-py2.py3-none-any.whl size=317488496 sha256=586a162acaef3999c63c269c7e455adf04cdad8df241bbb275877cfeac377bbb\n",
      "  Stored in directory: /home/xiangivyli/.cache/pip/wheels/95/13/41/f7f135ee114175605fb4f0a89e7389f3742aa6c1e1a5bcb657\n",
      "Successfully built pyspark\n",
      "Installing collected packages: py4j, pyspark, pandas\n",
      "  Attempting uninstall: py4j\n",
      "    Found existing installation: py4j 0.10.9.5\n",
      "    Uninstalling py4j-0.10.9.5:\n",
      "      Successfully uninstalled py4j-0.10.9.5\n",
      "  Attempting uninstall: pyspark\n",
      "    Found existing installation: pyspark 3.3.2\n",
      "    Can't uninstall 'pyspark'. No files were found to uninstall.\n",
      "  Attempting uninstall: pandas\n",
      "    Found existing installation: pandas 2.0.3\n",
      "    Uninstalling pandas-2.0.3:\n",
      "      Successfully uninstalled pandas-2.0.3\n",
      "Successfully installed pandas-2.2.1 py4j-0.10.9.7 pyspark-3.5.1\n",
      "Note: you may need to restart the kernel to use updated packages.\n"
     ]
    }
   ],
   "source": [
    "%pip install pyspark --upgrade pyspark pandas"
   ]
  },
  {
   "cell_type": "markdown",
   "metadata": {},
   "source": [
    "## 1. Libraries"
   ]
  },
  {
   "cell_type": "code",
   "execution_count": 1,
   "metadata": {},
   "outputs": [
    {
     "name": "stderr",
     "output_type": "stream",
     "text": [
      "/home/xiangivyli/anaconda3/lib/python3.11/site-packages/pandas/core/arrays/masked.py:60: UserWarning: Pandas requires version '1.3.6' or newer of 'bottleneck' (version '1.3.5' currently installed).\n",
      "  from pandas.core import (\n"
     ]
    }
   ],
   "source": [
    "import os\n",
    "import opendatasets as od\n",
    "import pandas as pd\n",
    "import pyspark\n",
    "from pyspark.sql import SparkSession\n",
    "from pyspark.sql.types import StructType, StructField, IntegerType, FloatType, StringType, TimestampType, DoubleType, LongType\n",
    "from pyspark.sql.functions import col, from_unixtime, floor"
   ]
  },
  {
   "cell_type": "code",
   "execution_count": 2,
   "metadata": {},
   "outputs": [
    {
     "name": "stderr",
     "output_type": "stream",
     "text": [
      "Setting default log level to \"WARN\".\n",
      "To adjust logging level use sc.setLogLevel(newLevel). For SparkR, use setLogLevel(newLevel).\n"
     ]
    },
    {
     "name": "stdout",
     "output_type": "stream",
     "text": [
      "24/03/25 18:59:02 WARN NativeCodeLoader: Unable to load native-hadoop library for your platform... using builtin-java classes where applicable\n"
     ]
    }
   ],
   "source": [
    "spark = SparkSession.builder \\\n",
    "    .master(\"local[*]\") \\\n",
    "    .appName(\"test\") \\\n",
    "    .config(\"spark.sql.parquet.int96RebaseModeInWrite\", \"LEGACY\") \\\n",
    "    .getOrCreate()"
   ]
  },
  {
   "cell_type": "markdown",
   "metadata": {},
   "source": [
    "## 2. Download Dataset"
   ]
  },
  {
   "cell_type": "code",
   "execution_count": 4,
   "metadata": {},
   "outputs": [],
   "source": [
    "dataset_url = \"https://www.kaggle.com/datasets/arshkon/linkedin-job-postings?resource=download\"\n",
    "download_path = \"./data\""
   ]
  },
  {
   "cell_type": "code",
   "execution_count": 5,
   "metadata": {},
   "outputs": [
    {
     "name": "stdout",
     "output_type": "stream",
     "text": [
      "Please provide your Kaggle credentials to download this dataset. Learn more: http://bit.ly/kaggle-creds\n",
      "Your Kaggle username:Your Kaggle username:Your Kaggle Key:Downloading linkedin-job-postings.zip to ./data/linkedin-job-postings\n"
     ]
    },
    {
     "name": "stderr",
     "output_type": "stream",
     "text": [
      "100%|██████████| 44.9M/44.9M [00:01<00:00, 30.8MB/s]\n"
     ]
    },
    {
     "name": "stdout",
     "output_type": "stream",
     "text": [
      "\n"
     ]
    }
   ],
   "source": [
    "#enter username & key downloaded from https://kaggle.com/me/account create new api token\n",
    "od.download(dataset_url, data_dir=download_path)"
   ]
  },
  {
   "cell_type": "code",
   "execution_count": 2,
   "metadata": {},
   "outputs": [
    {
     "name": "stdout",
     "output_type": "stream",
     "text": [
      "\u001b[01;34m.\u001b[00m\r\n",
      "├── README.md\r\n",
      "├── \u001b[01;34mdata\u001b[00m\r\n",
      "│   └── \u001b[01;34mlinkedin-job-postings\u001b[00m\r\n",
      "│       ├── \u001b[01;34mcompany_details\u001b[00m\r\n",
      "│       │   ├── companies.csv\r\n",
      "│       │   ├── company_industries.csv\r\n",
      "│       │   ├── company_specialities.csv\r\n",
      "│       │   └── employee_counts.csv\r\n",
      "│       ├── \u001b[01;34mjob_details\u001b[00m\r\n",
      "│       │   ├── benefits.csv\r\n",
      "│       │   ├── job_industries.csv\r\n",
      "│       │   ├── job_skills.csv\r\n",
      "│       │   └── salaries.csv\r\n",
      "│       ├── job_postings.csv\r\n",
      "│       └── \u001b[01;34mmaps\u001b[00m\r\n",
      "│           ├── industries.csv\r\n",
      "│           └── skills.csv\r\n",
      "└── kaggle_data_extraction.ipynb\r\n",
      "\r\n",
      "5 directories, 13 files\r\n"
     ]
    }
   ],
   "source": [
    "!tree "
   ]
  },
  {
   "cell_type": "code",
   "execution_count": 7,
   "metadata": {},
   "outputs": [
    {
     "name": "stdout",
     "output_type": "stream",
     "text": [
      "./\n",
      "    kaggle_data_extraction.ipynb\n",
      "    README.md\n",
      "    data/\n",
      "        linkedin-job-postings/\n",
      "            job_postings.csv\n",
      "            maps/\n",
      "                skills.csv\n",
      "                industries.csv\n",
      "            company_details/\n",
      "                employee_counts.csv\n",
      "                companies.csv\n",
      "                company_specialities.csv\n",
      "                company_industries.csv\n",
      "            job_details/\n",
      "                job_industries.csv\n",
      "                job_skills.csv\n",
      "                benefits.csv\n",
      "                salaries.csv\n"
     ]
    }
   ],
   "source": [
    "def list_files(startpath):\n",
    "    for root, dirs, files in os.walk(startpath):\n",
    "        level = root.replace(startpath, '').count(os.sep)\n",
    "        indent = ' ' * 4 * (level)\n",
    "        print(f\"{indent}{os.path.basename(root)}/\")\n",
    "        subindent = ' ' * 4 * (level + 1)\n",
    "        for f in files:\n",
    "            print(f\"{subindent}{f}\")\n",
    "\n",
    "list_files('.') "
   ]
  },
  {
   "cell_type": "code",
   "execution_count": 8,
   "metadata": {},
   "outputs": [
    {
     "name": "stdout",
     "output_type": "stream",
     "text": [
      "Directory: data/\n",
      "\n",
      "Directory: data/linkedin-job-postings\n",
      "    job_postings.csv - 134845243 bytes\n",
      "\n",
      "Directory: data/linkedin-job-postings/maps\n",
      "    skills.csv - 679 bytes\n",
      "    industries.csv - 6292 bytes\n",
      "\n",
      "Directory: data/linkedin-job-postings/company_details\n",
      "    employee_counts.csv - 416749 bytes\n",
      "    companies.csv - 10953429 bytes\n",
      "    company_specialities.csv - 2036857 bytes\n",
      "    company_industries.csv - 390677 bytes\n",
      "\n",
      "Directory: data/linkedin-job-postings/job_details\n",
      "    job_industries.csv - 666212 bytes\n",
      "    job_skills.csv - 925814 bytes\n",
      "    benefits.csv - 840280 bytes\n",
      "    salaries.csv - 731493 bytes\n",
      "\n"
     ]
    }
   ],
   "source": [
    "def get_size(start_path = '.'):\n",
    "    total_size = 0\n",
    "    for dirpath, dirnames, filenames in os.walk(start_path):\n",
    "        for f in filenames:\n",
    "            if f.endswith('.csv'):\n",
    "                fp = os.path.join(dirpath, f)\n",
    "                total_size += os.path.getsize(fp)\n",
    "    return total_size\n",
    "\n",
    "def print_file_sizes(start_path = '.'):\n",
    "    for dirpath, dirnames, filenames in os.walk(start_path):\n",
    "        print(f\"Directory: {dirpath}\")\n",
    "        for f in filenames:\n",
    "            if f.endswith('.csv'):\n",
    "                fp = os.path.join(dirpath, f)\n",
    "                size = os.path.getsize(fp)\n",
    "                print(f\"    {f} - {size} bytes\")\n",
    "        print()  # Print a newline for readability\n",
    "\n",
    "# Set the start path to your data directory\n",
    "data_directory = 'data/'  # Adjust this to the path where your data resides\n",
    "print_file_sizes(data_directory)"
   ]
  },
  {
   "cell_type": "code",
   "execution_count": 9,
   "metadata": {},
   "outputs": [
    {
     "name": "stdout",
     "output_type": "stream",
     "text": [
      "data/linkedin-job-postings/job_postings.csv: 33246 rows\n",
      "data/linkedin-job-postings/maps/skills.csv: 35 rows\n",
      "data/linkedin-job-postings/maps/industries.csv: 229 rows\n",
      "data/linkedin-job-postings/company_details/employee_counts.csv: 14275 rows\n",
      "data/linkedin-job-postings/company_details/companies.csv: 11361 rows\n",
      "data/linkedin-job-postings/company_details/company_specialities.csv: 78405 rows\n",
      "data/linkedin-job-postings/company_details/company_industries.csv: 12601 rows\n",
      "data/linkedin-job-postings/job_details/job_industries.csv: 44091 rows\n",
      "data/linkedin-job-postings/job_details/job_skills.csv: 56591 rows\n",
      "data/linkedin-job-postings/job_details/benefits.csv: 29325 rows\n",
      "data/linkedin-job-postings/job_details/salaries.csv: 13352 rows\n"
     ]
    }
   ],
   "source": [
    "def print_csv_row_counts(start_path='.'):\n",
    "    for dirpath, _, filenames in os.walk(start_path):\n",
    "        for f in filenames:\n",
    "            if f.endswith('.csv'):\n",
    "                file_path = os.path.join(dirpath, f)\n",
    "                try:\n",
    "                    df = pd.read_csv(file_path)\n",
    "                    print(f\"{file_path}: {len(df.index)} rows\")\n",
    "                except pd.errors.EmptyDataError:\n",
    "                    print(f\"{file_path}: Empty\")\n",
    "                except Exception as e:\n",
    "                    print(f\"{file_path}: Failed to read ({e})\")\n",
    "\n",
    "# Set the start path \n",
    "data_directory = 'data/'  \n",
    "print_csv_row_counts(data_directory)"
   ]
  },
  {
   "cell_type": "markdown",
   "metadata": {},
   "source": [
    "## 3. Read data and check schema"
   ]
  },
  {
   "cell_type": "markdown",
   "metadata": {},
   "source": [
    "### job_postings.csv fact table"
   ]
  },
  {
   "cell_type": "code",
   "execution_count": 24,
   "metadata": {},
   "outputs": [],
   "source": [
    "# Define the Spark schema\n",
    "job_postings_schema = StructType([\n",
    "    StructField(\"job_id\", StringType(), True),\n",
    "    StructField(\"company_id\", StringType(), True),\n",
    "    StructField(\"title\", StringType(), True),\n",
    "    StructField(\"description\", StringType(), True),\n",
    "    StructField(\"max_salary\", FloatType(), True),\n",
    "    StructField(\"med_salary\", FloatType(), True),\n",
    "    StructField(\"min_salary\", FloatType(), True),\n",
    "    StructField(\"pay_period\", StringType(), True),\n",
    "    StructField(\"formatted_work_type\", StringType(), True),\n",
    "    StructField(\"location\", StringType(), True),\n",
    "    StructField(\"applies\", IntegerType(), True),\n",
    "    StructField(\"original_listed_time\", LongType(), True),\n",
    "    StructField(\"remote_allowed\", StringType(), True),\n",
    "    StructField(\"views\", IntegerType(), True),\n",
    "    StructField(\"job_posting_url\", StringType(), True),\n",
    "    StructField(\"application_url\", StringType(), True),\n",
    "    StructField(\"application_type\", StringType(), True),\n",
    "    StructField(\"expiry\", LongType(), True),\n",
    "    StructField(\"closed_time\", LongType(), True),\n",
    "    StructField(\"formatted_experience_level\", StringType(), True),\n",
    "    StructField(\"skills_desc\", StringType(), True),\n",
    "    StructField(\"listed_time\", LongType(), True),\n",
    "    StructField(\"posting_domain\", StringType(), True),\n",
    "    StructField(\"sponsored\", IntegerType(), True),\n",
    "    StructField(\"work_type\", StringType(), True),\n",
    "    StructField(\"currency\", StringType(), True),\n",
    "    StructField(\"compensation_type\", StringType(), True),\n",
    "    StructField(\"scraped\", IntegerType(), True)\n",
    "])"
   ]
  },
  {
   "cell_type": "code",
   "execution_count": 25,
   "metadata": {},
   "outputs": [
    {
     "name": "stderr",
     "output_type": "stream",
     "text": [
      "                                                                                \r"
     ]
    }
   ],
   "source": [
    "df_posting = spark.read \\\n",
    "    .option(\"header\", \"true\") \\\n",
    "    .option(\"escape\", \"\\\"\") \\\n",
    "    .option(\"multiline\", \"true\") \\\n",
    "    .csv(\"./data/linkedin-job-postings/job_postings.csv\", inferSchema=True) "
   ]
  },
  {
   "cell_type": "code",
   "execution_count": 26,
   "metadata": {},
   "outputs": [
    {
     "name": "stdout",
     "output_type": "stream",
     "text": [
      "-RECORD 0------------------------------------------------------------------------\n",
      " job_id                     | 3757940104                                         \n",
      " company_id                 | 553718                                             \n",
      " title                      | Hearing Care Provider                              \n",
      " description                | Overview\\n\\nHearingLife is a national hearing c... \n",
      " max_salary                 | null                                               \n",
      " med_salary                 | 5250.0                                             \n",
      " min_salary                 | null                                               \n",
      " pay_period                 | MONTHLY                                            \n",
      " formatted_work_type        | Full-time                                          \n",
      " location                   | Little River, SC                                   \n",
      " applies                    | null                                               \n",
      " original_listed_time       | 1.69909E12                                         \n",
      " remote_allowed             | null                                               \n",
      " views                      | 9                                                  \n",
      " job_posting_url            | https://www.linkedin.com/jobs/view/3757940104/?... \n",
      " application_url            | https://careers-demant.icims.com/jobs/19601/hea... \n",
      " application_type           | OffsiteApply                                       \n",
      " expiry                     | 1.70168E12                                         \n",
      " closed_time                | null                                               \n",
      " formatted_experience_level | Entry level                                        \n",
      " skills_desc                | null                                               \n",
      " listed_time                | 1.69909E12                                         \n",
      " posting_domain             | careers-demant.icims.com                           \n",
      " sponsored                  | 0                                                  \n",
      " work_type                  | FULL_TIME                                          \n",
      " currency                   | USD                                                \n",
      " compensation_type          | BASE_SALARY                                        \n",
      " scraped                    | 1699138101                                         \n",
      "-RECORD 1------------------------------------------------------------------------\n",
      " job_id                     | 3757940025                                         \n",
      " company_id                 | 2192142                                            \n",
      " title                      | Shipping & Receiving Associate 2nd shift (Beave... \n",
      " description                | Metalcraft of Mayville\\nMetalcraft of Mayville ... \n",
      " max_salary                 | null                                               \n",
      " med_salary                 | null                                               \n",
      " min_salary                 | null                                               \n",
      " pay_period                 | null                                               \n",
      " formatted_work_type        | Full-time                                          \n",
      " location                   | Beaver Dam, WI                                     \n",
      " applies                    | null                                               \n",
      " original_listed_time       | 1.69908E12                                         \n",
      " remote_allowed             | null                                               \n",
      " views                      | null                                               \n",
      " job_posting_url            | https://www.linkedin.com/jobs/view/3757940025/?... \n",
      " application_url            | https://www.click2apply.net/mXLQz5S5NEYEXsKjwHRdYq \n",
      " application_type           | OffsiteApply                                       \n",
      " expiry                     | 1.70168E12                                         \n",
      " closed_time                | null                                               \n",
      " formatted_experience_level | null                                               \n",
      " skills_desc                | null                                               \n",
      " listed_time                | 1.69908E12                                         \n",
      " posting_domain             | www.click2apply.net                                \n",
      " sponsored                  | 0                                                  \n",
      " work_type                  | FULL_TIME                                          \n",
      " currency                   | null                                               \n",
      " compensation_type          | null                                               \n",
      " scraped                    | 1699085420                                         \n",
      "-RECORD 2------------------------------------------------------------------------\n",
      " job_id                     | 3757938019                                         \n",
      " company_id                 | 474443                                             \n",
      " title                      | Manager, Engineering                               \n",
      " description                | \\nThe TSUBAKI name is synonymous with excellenc... \n",
      " max_salary                 | null                                               \n",
      " med_salary                 | null                                               \n",
      " min_salary                 | null                                               \n",
      " pay_period                 | null                                               \n",
      " formatted_work_type        | Full-time                                          \n",
      " location                   | Bessemer, AL                                       \n",
      " applies                    | null                                               \n",
      " original_listed_time       | 1.69908E12                                         \n",
      " remote_allowed             | null                                               \n",
      " views                      | null                                               \n",
      " job_posting_url            | https://www.linkedin.com/jobs/view/3757938019/?... \n",
      " application_url            | https://www.click2apply.net/LwbOykH2yAJdahB5Ah5Gzp \n",
      " application_type           | OffsiteApply                                       \n",
      " expiry                     | 1.70168E12                                         \n",
      " closed_time                | null                                               \n",
      " formatted_experience_level | null                                               \n",
      " skills_desc                | Bachelor's Degree in Mechanical Engineering pre... \n",
      " listed_time                | 1.69908E12                                         \n",
      " posting_domain             | www.click2apply.net                                \n",
      " sponsored                  | 0                                                  \n",
      " work_type                  | FULL_TIME                                          \n",
      " currency                   | null                                               \n",
      " compensation_type          | null                                               \n",
      " scraped                    | 1699085644                                         \n",
      "-RECORD 3------------------------------------------------------------------------\n",
      " job_id                     | 3757938018                                         \n",
      " company_id                 | 18213359                                           \n",
      " title                      | Cook                                               \n",
      " description                | descriptionTitle\\n\\n Looking for a great opport... \n",
      " max_salary                 | null                                               \n",
      " med_salary                 | 22.27                                              \n",
      " min_salary                 | null                                               \n",
      " pay_period                 | HOURLY                                             \n",
      " formatted_work_type        | Full-time                                          \n",
      " location                   | Aliso Viejo, CA                                    \n",
      " applies                    | null                                               \n",
      " original_listed_time       | 1.69908E12                                         \n",
      " remote_allowed             | null                                               \n",
      " views                      | 1                                                  \n",
      " job_posting_url            | https://www.linkedin.com/jobs/view/3757938018/?... \n",
      " application_url            | https://jobs.apploi.com/view/854782?utm_campaig... \n",
      " application_type           | OffsiteApply                                       \n",
      " expiry                     | 1.70168E12                                         \n",
      " closed_time                | null                                               \n",
      " formatted_experience_level | Entry level                                        \n",
      " skills_desc                | null                                               \n",
      " listed_time                | 1.69908E12                                         \n",
      " posting_domain             | jobs.apploi.com                                    \n",
      " sponsored                  | 0                                                  \n",
      " work_type                  | FULL_TIME                                          \n",
      " currency                   | USD                                                \n",
      " compensation_type          | BASE_SALARY                                        \n",
      " scraped                    | 1699087461                                         \n",
      "-RECORD 4------------------------------------------------------------------------\n",
      " job_id                     | 3757937095                                         \n",
      " company_id                 | 437225                                             \n",
      " title                      | Principal Cloud Security Architect (Remote)        \n",
      " description                | Job Summary\\nAt iHerb, we are on a mission to m... \n",
      " max_salary                 | 275834.0                                           \n",
      " med_salary                 | null                                               \n",
      " min_salary                 | 205956.0                                           \n",
      " pay_period                 | YEARLY                                             \n",
      " formatted_work_type        | Full-time                                          \n",
      " location                   | United States                                      \n",
      " applies                    | null                                               \n",
      " original_listed_time       | 1.69897E12                                         \n",
      " remote_allowed             | 1                                                  \n",
      " views                      | null                                               \n",
      " job_posting_url            | https://www.linkedin.com/jobs/view/3757937095/?... \n",
      " application_url            | https://careers.iherb.com/global/en/job/IHINGLO... \n",
      " application_type           | OffsiteApply                                       \n",
      " expiry                     | 1.70168E12                                         \n",
      " closed_time                | null                                               \n",
      " formatted_experience_level | Mid-Senior level                                   \n",
      " skills_desc                | null                                               \n",
      " listed_time                | 1.69909E12                                         \n",
      " posting_domain             | careers.iherb.com                                  \n",
      " sponsored                  | 0                                                  \n",
      " work_type                  | FULL_TIME                                          \n",
      " currency                   | USD                                                \n",
      " compensation_type          | BASE_SALARY                                        \n",
      " scraped                    | 1699085346                                         \n",
      "-RECORD 5------------------------------------------------------------------------\n",
      " job_id                     | 3757937037                                         \n",
      " company_id                 | 13727                                              \n",
      " title                      | Territory Manager - New Haven                      \n",
      " description                | Location: Remote, CT, United States of America\\... \n",
      " max_salary                 | null                                               \n",
      " med_salary                 | null                                               \n",
      " min_salary                 | null                                               \n",
      " pay_period                 | null                                               \n",
      " formatted_work_type        | Full-time                                          \n",
      " location                   | United States                                      \n",
      " applies                    | null                                               \n",
      " original_listed_time       | 1.69872E12                                         \n",
      " remote_allowed             | 1                                                  \n",
      " views                      | 16                                                 \n",
      " job_posting_url            | https://www.linkedin.com/jobs/view/3757937037/?... \n",
      " application_url            | https://www.zoll.com/contact/careers-at-zoll/ca... \n",
      " application_type           | OffsiteApply                                       \n",
      " expiry                     | 1.70168E12                                         \n",
      " closed_time                | 1.7E12                                             \n",
      " formatted_experience_level | Mid-Senior level                                   \n",
      " skills_desc                | null                                               \n",
      " listed_time                | 1.69908E12                                         \n",
      " posting_domain             | www.zoll.com                                       \n",
      " sponsored                  | 0                                                  \n",
      " work_type                  | FULL_TIME                                          \n",
      " currency                   | null                                               \n",
      " compensation_type          | null                                               \n",
      " scraped                    | 1699137801                                         \n",
      "-RECORD 6------------------------------------------------------------------------\n",
      " job_id                     | 3757937004                                         \n",
      " company_id                 | 10515052                                           \n",
      " title                      | Auto Body Techncian                                \n",
      " description                | Company: Gerber Collision & Glass\\n\\nWELCOME TO... \n",
      " max_salary                 | null                                               \n",
      " med_salary                 | null                                               \n",
      " min_salary                 | null                                               \n",
      " pay_period                 | null                                               \n",
      " formatted_work_type        | Full-time                                          \n",
      " location                   | Daytona Beach, FL                                  \n",
      " applies                    | null                                               \n",
      " original_listed_time       | 1.69908E12                                         \n",
      " remote_allowed             | null                                               \n",
      " views                      | 1                                                  \n",
      " job_posting_url            | https://www.linkedin.com/jobs/view/3757937004/?... \n",
      " application_url            | https://boydgroup.wd1.myworkdayjobs.com/boydcar... \n",
      " application_type           | OffsiteApply                                       \n",
      " expiry                     | 1.70168E12                                         \n",
      " closed_time                | null                                               \n",
      " formatted_experience_level | Entry level                                        \n",
      " skills_desc                | null                                               \n",
      " listed_time                | 1.69908E12                                         \n",
      " posting_domain             | boydgroup.wd1.myworkdayjobs.com                    \n",
      " sponsored                  | 0                                                  \n",
      " work_type                  | FULL_TIME                                          \n",
      " currency                   | null                                               \n",
      " compensation_type          | null                                               \n",
      " scraped                    | 1699089473                                         \n",
      "-RECORD 7------------------------------------------------------------------------\n",
      " job_id                     | 3757936167                                         \n",
      " company_id                 | 2915                                               \n",
      " title                      | ACME D8- Asst Store Director (ASD) Sussex, NJ      \n",
      " description                | The First Assistant Store Director is actively ... \n",
      " max_salary                 | null                                               \n",
      " med_salary                 | null                                               \n",
      " min_salary                 | null                                               \n",
      " pay_period                 | null                                               \n",
      " formatted_work_type        | Full-time                                          \n",
      " location                   | Sussex, NJ                                         \n",
      " applies                    | null                                               \n",
      " original_listed_time       | 1.69692E12                                         \n",
      " remote_allowed             | null                                               \n",
      " views                      | 2                                                  \n",
      " job_posting_url            | https://www.linkedin.com/jobs/view/3757936167/?... \n",
      " application_url            | https://eofd.fa.us6.oraclecloud.com/hcmUI/Candi... \n",
      " application_type           | OffsiteApply                                       \n",
      " expiry                     | 1.70168E12                                         \n",
      " closed_time                | null                                               \n",
      " formatted_experience_level | Mid-Senior level                                   \n",
      " skills_desc                | null                                               \n",
      " listed_time                | 1.69909E12                                         \n",
      " posting_domain             | eofd.fa.us6.oraclecloud.com                        \n",
      " sponsored                  | 0                                                  \n",
      " work_type                  | FULL_TIME                                          \n",
      " currency                   | null                                               \n",
      " compensation_type          | null                                               \n",
      " scraped                    | 1699138852                                         \n",
      "-RECORD 8------------------------------------------------------------------------\n",
      " job_id                     | 3757936097                                         \n",
      " company_id                 | 18213359                                           \n",
      " title                      | Dishwasher                                         \n",
      " description                | descriptionTitle\\n\\n $2,000 Sign-on Bonus Guara... \n",
      " max_salary                 | null                                               \n",
      " med_salary                 | 19.3                                               \n",
      " min_salary                 | null                                               \n",
      " pay_period                 | HOURLY                                             \n",
      " formatted_work_type        | Full-time                                          \n",
      " location                   | Aliso Viejo, CA                                    \n",
      " applies                    | null                                               \n",
      " original_listed_time       | 1.69908E12                                         \n",
      " remote_allowed             | null                                               \n",
      " views                      | null                                               \n",
      " job_posting_url            | https://www.linkedin.com/jobs/view/3757936097/?... \n",
      " application_url            | https://jobs.apploi.com/view/861363?utm_campaig... \n",
      " application_type           | OffsiteApply                                       \n",
      " expiry                     | 1.70168E12                                         \n",
      " closed_time                | null                                               \n",
      " formatted_experience_level | Entry level                                        \n",
      " skills_desc                | null                                               \n",
      " listed_time                | 1.69908E12                                         \n",
      " posting_domain             | jobs.apploi.com                                    \n",
      " sponsored                  | 0                                                  \n",
      " work_type                  | FULL_TIME                                          \n",
      " currency                   | USD                                                \n",
      " compensation_type          | BASE_SALARY                                        \n",
      " scraped                    | 1699089324                                         \n",
      "-RECORD 9------------------------------------------------------------------------\n",
      " job_id                     | 3757936026                                         \n",
      " company_id                 | 634806                                             \n",
      " title                      | Instrumentation Quality Control Representative ... \n",
      " description                | Instrumentation Quality Control Representative\\... \n",
      " max_salary                 | null                                               \n",
      " med_salary                 | null                                               \n",
      " min_salary                 | null                                               \n",
      " pay_period                 | null                                               \n",
      " formatted_work_type        | Contract                                           \n",
      " location                   | United States                                      \n",
      " applies                    | 12                                                 \n",
      " original_listed_time       | 1.69908E12                                         \n",
      " remote_allowed             | 1                                                  \n",
      " views                      | 59                                                 \n",
      " job_posting_url            | https://www.linkedin.com/jobs/view/3757936026/?... \n",
      " application_url            | null                                               \n",
      " application_type           | SimpleOnsiteApply                                  \n",
      " expiry                     | 1.70427E12                                         \n",
      " closed_time                | null                                               \n",
      " formatted_experience_level | Entry level                                        \n",
      " skills_desc                | null                                               \n",
      " listed_time                | 1.69913E12                                         \n",
      " posting_domain             | jobs.stsigroup.com                                 \n",
      " sponsored                  | 0                                                  \n",
      " work_type                  | CONTRACT                                           \n",
      " currency                   | null                                               \n",
      " compensation_type          | null                                               \n",
      " scraped                    | 1699137876                                         \n",
      "only showing top 10 rows\n",
      "\n"
     ]
    }
   ],
   "source": [
    "df_posting.show(10, truncate=50, vertical=True)"
   ]
  },
  {
   "cell_type": "code",
   "execution_count": 27,
   "metadata": {},
   "outputs": [
    {
     "name": "stdout",
     "output_type": "stream",
     "text": [
      "-RECORD 0------------------------------------------------------------------------\n",
      " job_id                     | 3757940104                                         \n",
      " company_id                 | 553718                                             \n",
      " title                      | Hearing Care Provider                              \n",
      " description                | Overview\\n\\nHearingLife is a national hearing c... \n",
      " max_salary                 | null                                               \n",
      " med_salary                 | 5250.0                                             \n",
      " min_salary                 | null                                               \n",
      " pay_period                 | MONTHLY                                            \n",
      " formatted_work_type        | Full-time                                          \n",
      " location                   | Little River, SC                                   \n",
      " applies                    | null                                               \n",
      " original_listed_time       | 2023-11-04 09:26:40                                \n",
      " remote_allowed             | null                                               \n",
      " views                      | 9                                                  \n",
      " job_posting_url            | https://www.linkedin.com/jobs/view/3757940104/?... \n",
      " application_url            | https://careers-demant.icims.com/jobs/19601/hea... \n",
      " application_type           | OffsiteApply                                       \n",
      " expiry                     | 2023-12-04 08:53:20                                \n",
      " closed_time                | null                                               \n",
      " formatted_experience_level | Entry level                                        \n",
      " skills_desc                | null                                               \n",
      " listed_time                | 2023-11-04 09:26:40                                \n",
      " posting_domain             | careers-demant.icims.com                           \n",
      " sponsored                  | 0                                                  \n",
      " work_type                  | FULL_TIME                                          \n",
      " currency                   | USD                                                \n",
      " compensation_type          | BASE_SALARY                                        \n",
      " scraped                    | 1699138101                                         \n",
      "-RECORD 1------------------------------------------------------------------------\n",
      " job_id                     | 3757940025                                         \n",
      " company_id                 | 2192142                                            \n",
      " title                      | Shipping & Receiving Associate 2nd shift (Beave... \n",
      " description                | Metalcraft of Mayville\\nMetalcraft of Mayville ... \n",
      " max_salary                 | null                                               \n",
      " med_salary                 | null                                               \n",
      " min_salary                 | null                                               \n",
      " pay_period                 | null                                               \n",
      " formatted_work_type        | Full-time                                          \n",
      " location                   | Beaver Dam, WI                                     \n",
      " applies                    | null                                               \n",
      " original_listed_time       | 2023-11-04 06:40:00                                \n",
      " remote_allowed             | null                                               \n",
      " views                      | null                                               \n",
      " job_posting_url            | https://www.linkedin.com/jobs/view/3757940025/?... \n",
      " application_url            | https://www.click2apply.net/mXLQz5S5NEYEXsKjwHRdYq \n",
      " application_type           | OffsiteApply                                       \n",
      " expiry                     | 2023-12-04 08:53:20                                \n",
      " closed_time                | null                                               \n",
      " formatted_experience_level | null                                               \n",
      " skills_desc                | null                                               \n",
      " listed_time                | 2023-11-04 06:40:00                                \n",
      " posting_domain             | www.click2apply.net                                \n",
      " sponsored                  | 0                                                  \n",
      " work_type                  | FULL_TIME                                          \n",
      " currency                   | null                                               \n",
      " compensation_type          | null                                               \n",
      " scraped                    | 1699085420                                         \n",
      "-RECORD 2------------------------------------------------------------------------\n",
      " job_id                     | 3757938019                                         \n",
      " company_id                 | 474443                                             \n",
      " title                      | Manager, Engineering                               \n",
      " description                | \\nThe TSUBAKI name is synonymous with excellenc... \n",
      " max_salary                 | null                                               \n",
      " med_salary                 | null                                               \n",
      " min_salary                 | null                                               \n",
      " pay_period                 | null                                               \n",
      " formatted_work_type        | Full-time                                          \n",
      " location                   | Bessemer, AL                                       \n",
      " applies                    | null                                               \n",
      " original_listed_time       | 2023-11-04 06:40:00                                \n",
      " remote_allowed             | null                                               \n",
      " views                      | null                                               \n",
      " job_posting_url            | https://www.linkedin.com/jobs/view/3757938019/?... \n",
      " application_url            | https://www.click2apply.net/LwbOykH2yAJdahB5Ah5Gzp \n",
      " application_type           | OffsiteApply                                       \n",
      " expiry                     | 2023-12-04 08:53:20                                \n",
      " closed_time                | null                                               \n",
      " formatted_experience_level | null                                               \n",
      " skills_desc                | Bachelor's Degree in Mechanical Engineering pre... \n",
      " listed_time                | 2023-11-04 06:40:00                                \n",
      " posting_domain             | www.click2apply.net                                \n",
      " sponsored                  | 0                                                  \n",
      " work_type                  | FULL_TIME                                          \n",
      " currency                   | null                                               \n",
      " compensation_type          | null                                               \n",
      " scraped                    | 1699085644                                         \n",
      "-RECORD 3------------------------------------------------------------------------\n",
      " job_id                     | 3757938018                                         \n",
      " company_id                 | 18213359                                           \n",
      " title                      | Cook                                               \n",
      " description                | descriptionTitle\\n\\n Looking for a great opport... \n",
      " max_salary                 | null                                               \n",
      " med_salary                 | 22.27                                              \n",
      " min_salary                 | null                                               \n",
      " pay_period                 | HOURLY                                             \n",
      " formatted_work_type        | Full-time                                          \n",
      " location                   | Aliso Viejo, CA                                    \n",
      " applies                    | null                                               \n",
      " original_listed_time       | 2023-11-04 06:40:00                                \n",
      " remote_allowed             | null                                               \n",
      " views                      | 1                                                  \n",
      " job_posting_url            | https://www.linkedin.com/jobs/view/3757938018/?... \n",
      " application_url            | https://jobs.apploi.com/view/854782?utm_campaig... \n",
      " application_type           | OffsiteApply                                       \n",
      " expiry                     | 2023-12-04 08:53:20                                \n",
      " closed_time                | null                                               \n",
      " formatted_experience_level | Entry level                                        \n",
      " skills_desc                | null                                               \n",
      " listed_time                | 2023-11-04 06:40:00                                \n",
      " posting_domain             | jobs.apploi.com                                    \n",
      " sponsored                  | 0                                                  \n",
      " work_type                  | FULL_TIME                                          \n",
      " currency                   | USD                                                \n",
      " compensation_type          | BASE_SALARY                                        \n",
      " scraped                    | 1699087461                                         \n",
      "-RECORD 4------------------------------------------------------------------------\n",
      " job_id                     | 3757937095                                         \n",
      " company_id                 | 437225                                             \n",
      " title                      | Principal Cloud Security Architect (Remote)        \n",
      " description                | Job Summary\\nAt iHerb, we are on a mission to m... \n",
      " max_salary                 | 275834.0                                           \n",
      " med_salary                 | null                                               \n",
      " min_salary                 | 205956.0                                           \n",
      " pay_period                 | YEARLY                                             \n",
      " formatted_work_type        | Full-time                                          \n",
      " location                   | United States                                      \n",
      " applies                    | null                                               \n",
      " original_listed_time       | 2023-11-03 00:06:40                                \n",
      " remote_allowed             | 1                                                  \n",
      " views                      | null                                               \n",
      " job_posting_url            | https://www.linkedin.com/jobs/view/3757937095/?... \n",
      " application_url            | https://careers.iherb.com/global/en/job/IHINGLO... \n",
      " application_type           | OffsiteApply                                       \n",
      " expiry                     | 2023-12-04 08:53:20                                \n",
      " closed_time                | null                                               \n",
      " formatted_experience_level | Mid-Senior level                                   \n",
      " skills_desc                | null                                               \n",
      " listed_time                | 2023-11-04 09:26:40                                \n",
      " posting_domain             | careers.iherb.com                                  \n",
      " sponsored                  | 0                                                  \n",
      " work_type                  | FULL_TIME                                          \n",
      " currency                   | USD                                                \n",
      " compensation_type          | BASE_SALARY                                        \n",
      " scraped                    | 1699085346                                         \n",
      "-RECORD 5------------------------------------------------------------------------\n",
      " job_id                     | 3757937037                                         \n",
      " company_id                 | 13727                                              \n",
      " title                      | Territory Manager - New Haven                      \n",
      " description                | Location: Remote, CT, United States of America\\... \n",
      " max_salary                 | null                                               \n",
      " med_salary                 | null                                               \n",
      " min_salary                 | null                                               \n",
      " pay_period                 | null                                               \n",
      " formatted_work_type        | Full-time                                          \n",
      " location                   | United States                                      \n",
      " applies                    | null                                               \n",
      " original_listed_time       | 2023-10-31 02:40:00                                \n",
      " remote_allowed             | 1                                                  \n",
      " views                      | 16                                                 \n",
      " job_posting_url            | https://www.linkedin.com/jobs/view/3757937037/?... \n",
      " application_url            | https://www.zoll.com/contact/careers-at-zoll/ca... \n",
      " application_type           | OffsiteApply                                       \n",
      " expiry                     | 2023-12-04 08:53:20                                \n",
      " closed_time                | 2023-11-14 22:13:20                                \n",
      " formatted_experience_level | Mid-Senior level                                   \n",
      " skills_desc                | null                                               \n",
      " listed_time                | 2023-11-04 06:40:00                                \n",
      " posting_domain             | www.zoll.com                                       \n",
      " sponsored                  | 0                                                  \n",
      " work_type                  | FULL_TIME                                          \n",
      " currency                   | null                                               \n",
      " compensation_type          | null                                               \n",
      " scraped                    | 1699137801                                         \n",
      "-RECORD 6------------------------------------------------------------------------\n",
      " job_id                     | 3757937004                                         \n",
      " company_id                 | 10515052                                           \n",
      " title                      | Auto Body Techncian                                \n",
      " description                | Company: Gerber Collision & Glass\\n\\nWELCOME TO... \n",
      " max_salary                 | null                                               \n",
      " med_salary                 | null                                               \n",
      " min_salary                 | null                                               \n",
      " pay_period                 | null                                               \n",
      " formatted_work_type        | Full-time                                          \n",
      " location                   | Daytona Beach, FL                                  \n",
      " applies                    | null                                               \n",
      " original_listed_time       | 2023-11-04 06:40:00                                \n",
      " remote_allowed             | null                                               \n",
      " views                      | 1                                                  \n",
      " job_posting_url            | https://www.linkedin.com/jobs/view/3757937004/?... \n",
      " application_url            | https://boydgroup.wd1.myworkdayjobs.com/boydcar... \n",
      " application_type           | OffsiteApply                                       \n",
      " expiry                     | 2023-12-04 08:53:20                                \n",
      " closed_time                | null                                               \n",
      " formatted_experience_level | Entry level                                        \n",
      " skills_desc                | null                                               \n",
      " listed_time                | 2023-11-04 06:40:00                                \n",
      " posting_domain             | boydgroup.wd1.myworkdayjobs.com                    \n",
      " sponsored                  | 0                                                  \n",
      " work_type                  | FULL_TIME                                          \n",
      " currency                   | null                                               \n",
      " compensation_type          | null                                               \n",
      " scraped                    | 1699089473                                         \n",
      "-RECORD 7------------------------------------------------------------------------\n",
      " job_id                     | 3757936167                                         \n",
      " company_id                 | 2915                                               \n",
      " title                      | ACME D8- Asst Store Director (ASD) Sussex, NJ      \n",
      " description                | The First Assistant Store Director is actively ... \n",
      " max_salary                 | null                                               \n",
      " med_salary                 | null                                               \n",
      " min_salary                 | null                                               \n",
      " pay_period                 | null                                               \n",
      " formatted_work_type        | Full-time                                          \n",
      " location                   | Sussex, NJ                                         \n",
      " applies                    | null                                               \n",
      " original_listed_time       | 2023-10-10 06:40:00                                \n",
      " remote_allowed             | null                                               \n",
      " views                      | 2                                                  \n",
      " job_posting_url            | https://www.linkedin.com/jobs/view/3757936167/?... \n",
      " application_url            | https://eofd.fa.us6.oraclecloud.com/hcmUI/Candi... \n",
      " application_type           | OffsiteApply                                       \n",
      " expiry                     | 2023-12-04 08:53:20                                \n",
      " closed_time                | null                                               \n",
      " formatted_experience_level | Mid-Senior level                                   \n",
      " skills_desc                | null                                               \n",
      " listed_time                | 2023-11-04 09:26:40                                \n",
      " posting_domain             | eofd.fa.us6.oraclecloud.com                        \n",
      " sponsored                  | 0                                                  \n",
      " work_type                  | FULL_TIME                                          \n",
      " currency                   | null                                               \n",
      " compensation_type          | null                                               \n",
      " scraped                    | 1699138852                                         \n",
      "-RECORD 8------------------------------------------------------------------------\n",
      " job_id                     | 3757936097                                         \n",
      " company_id                 | 18213359                                           \n",
      " title                      | Dishwasher                                         \n",
      " description                | descriptionTitle\\n\\n $2,000 Sign-on Bonus Guara... \n",
      " max_salary                 | null                                               \n",
      " med_salary                 | 19.3                                               \n",
      " min_salary                 | null                                               \n",
      " pay_period                 | HOURLY                                             \n",
      " formatted_work_type        | Full-time                                          \n",
      " location                   | Aliso Viejo, CA                                    \n",
      " applies                    | null                                               \n",
      " original_listed_time       | 2023-11-04 06:40:00                                \n",
      " remote_allowed             | null                                               \n",
      " views                      | null                                               \n",
      " job_posting_url            | https://www.linkedin.com/jobs/view/3757936097/?... \n",
      " application_url            | https://jobs.apploi.com/view/861363?utm_campaig... \n",
      " application_type           | OffsiteApply                                       \n",
      " expiry                     | 2023-12-04 08:53:20                                \n",
      " closed_time                | null                                               \n",
      " formatted_experience_level | Entry level                                        \n",
      " skills_desc                | null                                               \n",
      " listed_time                | 2023-11-04 06:40:00                                \n",
      " posting_domain             | jobs.apploi.com                                    \n",
      " sponsored                  | 0                                                  \n",
      " work_type                  | FULL_TIME                                          \n",
      " currency                   | USD                                                \n",
      " compensation_type          | BASE_SALARY                                        \n",
      " scraped                    | 1699089324                                         \n",
      "-RECORD 9------------------------------------------------------------------------\n",
      " job_id                     | 3757936026                                         \n",
      " company_id                 | 634806                                             \n",
      " title                      | Instrumentation Quality Control Representative ... \n",
      " description                | Instrumentation Quality Control Representative\\... \n",
      " max_salary                 | null                                               \n",
      " med_salary                 | null                                               \n",
      " min_salary                 | null                                               \n",
      " pay_period                 | null                                               \n",
      " formatted_work_type        | Contract                                           \n",
      " location                   | United States                                      \n",
      " applies                    | 12                                                 \n",
      " original_listed_time       | 2023-11-04 06:40:00                                \n",
      " remote_allowed             | 1                                                  \n",
      " views                      | 59                                                 \n",
      " job_posting_url            | https://www.linkedin.com/jobs/view/3757936026/?... \n",
      " application_url            | null                                               \n",
      " application_type           | SimpleOnsiteApply                                  \n",
      " expiry                     | 2024-01-03 08:20:00                                \n",
      " closed_time                | null                                               \n",
      " formatted_experience_level | Entry level                                        \n",
      " skills_desc                | null                                               \n",
      " listed_time                | 2023-11-04 20:33:20                                \n",
      " posting_domain             | jobs.stsigroup.com                                 \n",
      " sponsored                  | 0                                                  \n",
      " work_type                  | CONTRACT                                           \n",
      " currency                   | null                                               \n",
      " compensation_type          | null                                               \n",
      " scraped                    | 1699137876                                         \n",
      "only showing top 10 rows\n",
      "\n"
     ]
    }
   ],
   "source": [
    "# Define a list of your timestamp columns\n",
    "timestamp_columns = [\"original_listed_time\", \"expiry\", \"closed_time\", \"listed_time\"]\n",
    "\n",
    "# Convert from Unix time in milliseconds to a proper timestamp\n",
    "# Loop through the list and apply the transformation to each column\n",
    "for column_name in timestamp_columns:\n",
    "    df_posting = df_posting.withColumn(\n",
    "        column_name,\n",
    "        (col(column_name) / 1000).cast(\"timestamp\")\n",
    "    )\n",
    "\n",
    "# Show the dataframe\n",
    "df_posting.show(10, truncate=50, vertical=True)"
   ]
  },
  {
   "cell_type": "code",
   "execution_count": 28,
   "metadata": {},
   "outputs": [],
   "source": [
    "df_posting = df_posting.repartition(10)"
   ]
  },
  {
   "cell_type": "code",
   "execution_count": 29,
   "metadata": {},
   "outputs": [
    {
     "name": "stderr",
     "output_type": "stream",
     "text": [
      "                                                                                \r"
     ]
    }
   ],
   "source": [
    "df_posting.write.parquet(\"./data/pq-linkedin-job-postings/pq_job_postings/\", mode=\"overwrite\")"
   ]
  },
  {
   "cell_type": "markdown",
   "metadata": {},
   "source": [
    "### company_details/companies.csv"
   ]
  },
  {
   "cell_type": "code",
   "execution_count": 45,
   "metadata": {},
   "outputs": [
    {
     "name": "stdout",
     "output_type": "stream",
     "text": [
      "-RECORD 0------------------\n",
      " company_id   | 1009       \n",
      " name         | IBM        \n",
      " description  | At IBM,... \n",
      " company_size | 7          \n",
      " state        | NY         \n",
      " country      | US         \n",
      " city         | Armonk,... \n",
      " zip_code     | 10504      \n",
      " address      | Interna... \n",
      " url          | https:/... \n",
      "-RECORD 1------------------\n",
      " company_id   | 1016       \n",
      " name         | GE Heal... \n",
      " description  | Every d... \n",
      " company_size | 7          \n",
      " state        | 0          \n",
      " country      | US         \n",
      " city         | Chicago    \n",
      " zip_code     | 0          \n",
      " address      | -          \n",
      " url          | https:/... \n",
      "-RECORD 2------------------\n",
      " company_id   | 1021       \n",
      " name         | GE Power   \n",
      " description  | GE Powe... \n",
      " company_size | 7          \n",
      " state        | NY         \n",
      " country      | US         \n",
      " city         | Schenec... \n",
      " zip_code     | 12345      \n",
      " address      | 1 River... \n",
      " url          | https:/... \n",
      "-RECORD 3------------------\n",
      " company_id   | 1025       \n",
      " name         | Hewlett... \n",
      " description  | Officia... \n",
      " company_size | 7          \n",
      " state        | Texas      \n",
      " country      | US         \n",
      " city         | Houston    \n",
      " zip_code     | 77389      \n",
      " address      | 1701 E ... \n",
      " url          | https:/... \n",
      "-RECORD 4------------------\n",
      " company_id   | 1028       \n",
      " name         | Oracle     \n",
      " description  | We’re a... \n",
      " company_size | 7          \n",
      " state        | Texas      \n",
      " country      | US         \n",
      " city         | Austin     \n",
      " zip_code     | 78741      \n",
      " address      | 2300 Or... \n",
      " url          | https:/... \n",
      "-RECORD 5------------------\n",
      " company_id   | 1033       \n",
      " name         | Accenture  \n",
      " description  | Accentu... \n",
      " company_size | 7          \n",
      " state        | 0          \n",
      " country      | IE         \n",
      " city         | Dublin 2   \n",
      " zip_code     | 0          \n",
      " address      | Grand C... \n",
      " url          | https:/... \n",
      "-RECORD 6------------------\n",
      " company_id   | 1038       \n",
      " name         | Deloitte   \n",
      " description  | Deloitt... \n",
      " company_size | 7          \n",
      " state        | 0          \n",
      " country      | OO         \n",
      " city         | Worldwide  \n",
      " zip_code     | 0          \n",
      " address      | Worldwide  \n",
      " url          | https:/... \n",
      "-RECORD 7------------------\n",
      " company_id   | 1043       \n",
      " name         | Siemens    \n",
      " description  | Siemens... \n",
      " company_size | 7          \n",
      " state        | 0          \n",
      " country      | DE         \n",
      " city         | Munich     \n",
      " zip_code     | 80333      \n",
      " address      | Werner-... \n",
      " url          | https:/... \n",
      "-RECORD 8------------------\n",
      " company_id   | 1044       \n",
      " name         | PwC        \n",
      " description  | At PwC,... \n",
      " company_size | 7          \n",
      " state        | 0          \n",
      " country      | GB         \n",
      " city         | 0          \n",
      " zip_code     | 0          \n",
      " address      | 1 Emban... \n",
      " url          | https:/... \n",
      "-RECORD 9------------------\n",
      " company_id   | 1052       \n",
      " name         | AT&T       \n",
      " description  | We unde... \n",
      " company_size | 7          \n",
      " state        | TX         \n",
      " country      | US         \n",
      " city         | Dallas     \n",
      " zip_code     | 75202      \n",
      " address      | 208 S. ... \n",
      " url          | https:/... \n",
      "only showing top 10 rows\n",
      "\n"
     ]
    }
   ],
   "source": [
    "companies_schema=StructType([\n",
    "    StructField(\"company_id\", StringType(), True), \n",
    "    StructField(\"name\", StringType(), True),\n",
    "    StructField(\"description\", StringType(), True),\n",
    "    StructField(\"company_size\", IntegerType(), True),  \n",
    "    StructField(\"state\", StringType(), True),\n",
    "    StructField(\"country\", StringType(), True),\n",
    "    StructField(\"city\", StringType(), True),\n",
    "    StructField(\"zip_code\", StringType(), True), \n",
    "    StructField(\"address\", StringType(), True),\n",
    "    StructField(\"url\", StringType(), True)\n",
    "])\n",
    "\n",
    "\n",
    "\n",
    "df_companies = spark.read \\\n",
    "    .option(\"header\", \"true\") \\\n",
    "    .schema(companies_schema) \\\n",
    "    .option(\"escape\", \"\\\"\") \\\n",
    "    .option(\"multiline\", \"true\") \\\n",
    "    .csv(\"./data/linkedin-job-postings/company_details/companies.csv\") \n",
    "\n",
    "\n",
    "df_companies.show(10, truncate=10, vertical=True)"
   ]
  },
  {
   "cell_type": "code",
   "execution_count": 46,
   "metadata": {},
   "outputs": [],
   "source": [
    "df_companies.repartition(5).write.parquet(\"./data/pq-linkedin-job-postings/pq_companies/\", mode=\"overwrite\")"
   ]
  },
  {
   "cell_type": "markdown",
   "metadata": {},
   "source": [
    "### company_details/company_industries.csv"
   ]
  },
  {
   "cell_type": "code",
   "execution_count": 47,
   "metadata": {},
   "outputs": [
    {
     "name": "stdout",
     "output_type": "stream",
     "text": [
      "+----------+--------------------+\n",
      "|company_id|            industry|\n",
      "+----------+--------------------+\n",
      "|  81149246|    Higher Education|\n",
      "|  10033339|Information Techn...|\n",
      "|   6049228|          Accounting|\n",
      "|   2641066|Electrical & Elec...|\n",
      "|  96649998|Marketing & Adver...|\n",
      "|  82684341|Hospital & Health...|\n",
      "|  82296828|Information Techn...|\n",
      "|  86746333|Logistics & Suppl...|\n",
      "|    718651|    Medical Practice|\n",
      "|   4781041|  Mental Health Care|\n",
      "+----------+--------------------+\n",
      "only showing top 10 rows\n",
      "\n"
     ]
    }
   ],
   "source": [
    "company_industry_schema=StructType([\n",
    "    StructField(\"company_id\", StringType(), True), \n",
    "    StructField(\"industry\", StringType(), True)\n",
    "])\n",
    "\n",
    "\n",
    "df_company_industry = spark.read \\\n",
    "    .option(\"header\", \"true\") \\\n",
    "    .schema(company_industry_schema) \\\n",
    "    .csv(\"./data/linkedin-job-postings/company_details/company_industries.csv\") \n",
    "\n",
    "\n",
    "df_company_industry.show(10)"
   ]
  },
  {
   "cell_type": "code",
   "execution_count": 48,
   "metadata": {},
   "outputs": [],
   "source": [
    "df_company_industry.repartition(2).write.parquet(\"./data/pq-linkedin-job-postings/pq_company_industries/\", mode=\"overwrite\")"
   ]
  },
  {
   "cell_type": "markdown",
   "metadata": {},
   "source": [
    "### company_details/employee_counts.csv"
   ]
  },
  {
   "cell_type": "code",
   "execution_count": 49,
   "metadata": {},
   "outputs": [
    {
     "name": "stdout",
     "output_type": "stream",
     "text": [
      "+----------+--------------+--------------+--------------------+\n",
      "|company_id|employee_count|follower_count|       time_recorded|\n",
      "+----------+--------------+--------------+--------------------+\n",
      "|  81149246|             6|            91|1.6926446442779734E9|\n",
      "|  10033339|             3|           187|1.6926446442779734E9|\n",
      "|   6049228|            20|            82|1.6926446451013184E9|\n",
      "|   2641066|            45|          2336|1.6926446459232166E9|\n",
      "|  96649998|             0|             2|1.6926446459242187E9|\n",
      "|  82684341|             3|           128|1.6926446463704655E9|\n",
      "|  82296828|             0|            64|1.6926446463704655E9|\n",
      "|  86746333|            11|           478|1.6926446468182244E9|\n",
      "|    718651|             5|            22|1.6926446471765628E9|\n",
      "|   4781041|            14|            17|  1.69264464762722E9|\n",
      "+----------+--------------+--------------+--------------------+\n",
      "only showing top 10 rows\n",
      "\n"
     ]
    }
   ],
   "source": [
    "employee_schema=StructType([\n",
    "    StructField(\"company_id\", StringType(), True),\n",
    "    StructField(\"employee_count\", IntegerType(), True),\n",
    "    StructField(\"follower_count\", IntegerType(), True),\n",
    "    StructField(\"time_recorded\", DoubleType(), True)\n",
    "])\n",
    "\n",
    "df_employee_counts = spark.read \\\n",
    "    .schema(employee_schema) \\\n",
    "    .csv(\"./data/linkedin-job-postings/company_details/employee_counts.csv\", header=True)\n",
    "\n",
    "df_employee_counts.show(10)"
   ]
  },
  {
   "cell_type": "code",
   "execution_count": 50,
   "metadata": {},
   "outputs": [
    {
     "name": "stdout",
     "output_type": "stream",
     "text": [
      "+----------+--------------+--------------+-------------+\n",
      "|company_id|employee_count|follower_count|time_recorded|\n",
      "+----------+--------------+--------------+-------------+\n",
      "|  81149246|             6|            91|   1692644644|\n",
      "|  10033339|             3|           187|   1692644644|\n",
      "|   6049228|            20|            82|   1692644645|\n",
      "|   2641066|            45|          2336|   1692644645|\n",
      "|  96649998|             0|             2|   1692644645|\n",
      "|  82684341|             3|           128|   1692644646|\n",
      "|  82296828|             0|            64|   1692644646|\n",
      "|  86746333|            11|           478|   1692644646|\n",
      "|    718651|             5|            22|   1692644647|\n",
      "|   4781041|            14|            17|   1692644647|\n",
      "+----------+--------------+--------------+-------------+\n",
      "only showing top 10 rows\n",
      "\n"
     ]
    }
   ],
   "source": [
    "# Floor the 'time_recorded' column to remove decimal part, then cast to long\n",
    "df_employee_counts = df_employee_counts.withColumn(\n",
    "    \"time_recorded\",\n",
    "    floor(col(\"time_recorded\")).cast(\"long\")\n",
    ")\n",
    "\n",
    "df_employee_counts.show(10)"
   ]
  },
  {
   "cell_type": "code",
   "execution_count": 51,
   "metadata": {},
   "outputs": [
    {
     "name": "stdout",
     "output_type": "stream",
     "text": [
      "+----------+--------------+--------------+-------------------+\n",
      "|company_id|employee_count|follower_count|      time_recorded|\n",
      "+----------+--------------+--------------+-------------------+\n",
      "|  81149246|             6|            91|2023-08-21 19:04:04|\n",
      "|  10033339|             3|           187|2023-08-21 19:04:04|\n",
      "|   6049228|            20|            82|2023-08-21 19:04:05|\n",
      "|   2641066|            45|          2336|2023-08-21 19:04:05|\n",
      "|  96649998|             0|             2|2023-08-21 19:04:05|\n",
      "|  82684341|             3|           128|2023-08-21 19:04:06|\n",
      "|  82296828|             0|            64|2023-08-21 19:04:06|\n",
      "|  86746333|            11|           478|2023-08-21 19:04:06|\n",
      "|    718651|             5|            22|2023-08-21 19:04:07|\n",
      "|   4781041|            14|            17|2023-08-21 19:04:07|\n",
      "+----------+--------------+--------------+-------------------+\n",
      "only showing top 10 rows\n",
      "\n"
     ]
    }
   ],
   "source": [
    "# Now convert from Unix time in seconds to a proper timestamp\n",
    "df_employee_counts = df_employee_counts.withColumn(\n",
    "    \"time_recorded\",\n",
    "    from_unixtime(col(\"time_recorded\")).cast(\"timestamp\")\n",
    ")\n",
    "\n",
    "df_employee_counts.show(10)"
   ]
  },
  {
   "cell_type": "code",
   "execution_count": 52,
   "metadata": {},
   "outputs": [
    {
     "name": "stdout",
     "output_type": "stream",
     "text": [
      "root\n",
      " |-- company_id: string (nullable = true)\n",
      " |-- employee_count: integer (nullable = true)\n",
      " |-- follower_count: integer (nullable = true)\n",
      " |-- time_recorded: timestamp (nullable = true)\n",
      "\n"
     ]
    }
   ],
   "source": [
    "df_employee_counts.printSchema()"
   ]
  },
  {
   "cell_type": "code",
   "execution_count": 53,
   "metadata": {},
   "outputs": [],
   "source": [
    "df_employee_counts.repartition(5).write.parquet(\"./data/pq-linkedin-job-postings/pq_employee/\", mode=\"overwrite\")"
   ]
  },
  {
   "cell_type": "markdown",
   "metadata": {},
   "source": [
    "### company_details/company_specialities.csv"
   ]
  },
  {
   "cell_type": "code",
   "execution_count": 54,
   "metadata": {},
   "outputs": [
    {
     "name": "stdout",
     "output_type": "stream",
     "text": [
      "+----------+--------------------+\n",
      "|company_id|          speciality|\n",
      "+----------+--------------------+\n",
      "|  81149246|Childrens Music E...|\n",
      "|  81149246|Foundational Musi...|\n",
      "|  81149246| Child Music Lessons|\n",
      "|  81149246|social emotional ...|\n",
      "|  81149246|social emotional ...|\n",
      "|  81149246|           education|\n",
      "|  81149246|formative assessment|\n",
      "|  81149246|   expanded learning|\n",
      "|  81149246| enrichment programs|\n",
      "|  10033339|          SharePoint|\n",
      "+----------+--------------------+\n",
      "only showing top 10 rows\n",
      "\n"
     ]
    }
   ],
   "source": [
    "company_specialities_schema=StructType([\n",
    "    StructField(\"company_id\", StringType(), True),\n",
    "    StructField(\"speciality\", StringType(), True)\n",
    "])\n",
    "\n",
    "df_company_specialities = spark.read \\\n",
    "    .schema(company_specialities_schema) \\\n",
    "    .csv(\"./data/linkedin-job-postings/company_details/company_specialities.csv\", header=True)\n",
    "\n",
    "df_company_specialities.show(10)"
   ]
  },
  {
   "cell_type": "code",
   "execution_count": 55,
   "metadata": {},
   "outputs": [],
   "source": [
    "df_company_specialities.repartition(5).write.parquet(\"./data/pq-linkedin-job-postings/pq_company_specialities/\", mode=\"overwrite\")"
   ]
  },
  {
   "cell_type": "markdown",
   "metadata": {},
   "source": [
    "### job_details/job_industries.csv"
   ]
  },
  {
   "cell_type": "code",
   "execution_count": 57,
   "metadata": {},
   "outputs": [
    {
     "name": "stdout",
     "output_type": "stream",
     "text": [
      "+----------+-----------+\n",
      "|    job_id|industry_id|\n",
      "+----------+-----------+\n",
      "|3378133231|         68|\n",
      "|3497509795|         96|\n",
      "|3690843087|         47|\n",
      "|3691775263|        112|\n",
      "|3691779379|         80|\n",
      "|3691786992|         14|\n",
      "|3691789797|         96|\n",
      "|3691792844|        116|\n",
      "|3691793575|         13|\n",
      "|3691794313|         87|\n",
      "+----------+-----------+\n",
      "only showing top 10 rows\n",
      "\n"
     ]
    }
   ],
   "source": [
    "df_job_industries = spark.read \\\n",
    "    .csv(\"./data/linkedin-job-postings/job_details/job_industries.csv\", header=True)\n",
    "\n",
    "df_job_industries.show(10)"
   ]
  },
  {
   "cell_type": "code",
   "execution_count": 56,
   "metadata": {},
   "outputs": [
    {
     "name": "stdout",
     "output_type": "stream",
     "text": [
      "root\n",
      " |-- job_id: string (nullable = true)\n",
      " |-- industry_id: string (nullable = true)\n",
      "\n"
     ]
    }
   ],
   "source": [
    "df_job_industries.printSchema()"
   ]
  },
  {
   "cell_type": "code",
   "execution_count": 58,
   "metadata": {},
   "outputs": [],
   "source": [
    "df_job_industries.repartition(5).write.parquet(\"./data/pq-linkedin-job-postings/pq_job_industries/\", mode=\"overwrite\")"
   ]
  },
  {
   "cell_type": "markdown",
   "metadata": {},
   "source": [
    "### job_details/job_skills.csv"
   ]
  },
  {
   "cell_type": "code",
   "execution_count": 59,
   "metadata": {},
   "outputs": [
    {
     "name": "stdout",
     "output_type": "stream",
     "text": [
      "+----------+---------+\n",
      "|    job_id|skill_abr|\n",
      "+----------+---------+\n",
      "|3690843087|     ACCT|\n",
      "|3690843087|      FIN|\n",
      "|3691763971|     MGMT|\n",
      "|3691763971|     MNFC|\n",
      "|3691775263|     MGMT|\n",
      "|3691775263|     MNFC|\n",
      "|3691786992|     HCPR|\n",
      "|3691789797|     MGMT|\n",
      "|3691789797|     MNFC|\n",
      "|3691789919|     HCPR|\n",
      "+----------+---------+\n",
      "only showing top 10 rows\n",
      "\n"
     ]
    }
   ],
   "source": [
    "df_job_skills = spark.read \\\n",
    "    .csv(\"./data/linkedin-job-postings/job_details/job_skills.csv\", header=True)\n",
    "\n",
    "df_job_skills.show(10)"
   ]
  },
  {
   "cell_type": "code",
   "execution_count": 60,
   "metadata": {},
   "outputs": [
    {
     "name": "stdout",
     "output_type": "stream",
     "text": [
      "root\n",
      " |-- job_id: string (nullable = true)\n",
      " |-- skill_abr: string (nullable = true)\n",
      "\n"
     ]
    }
   ],
   "source": [
    "df_job_skills.printSchema()"
   ]
  },
  {
   "cell_type": "code",
   "execution_count": 61,
   "metadata": {},
   "outputs": [],
   "source": [
    "df_job_skills.repartition(5).write.parquet(\"./data/pq-linkedin-job-postings/pq_job_skills/\", mode=\"overwrite\")"
   ]
  },
  {
   "cell_type": "markdown",
   "metadata": {},
   "source": [
    "### job_details/salaries.csv"
   ]
  },
  {
   "cell_type": "code",
   "execution_count": 22,
   "metadata": {},
   "outputs": [
    {
     "data": {
      "text/html": [
       "<div>\n",
       "<style scoped>\n",
       "    .dataframe tbody tr th:only-of-type {\n",
       "        vertical-align: middle;\n",
       "    }\n",
       "\n",
       "    .dataframe tbody tr th {\n",
       "        vertical-align: top;\n",
       "    }\n",
       "\n",
       "    .dataframe thead th {\n",
       "        text-align: right;\n",
       "    }\n",
       "</style>\n",
       "<table border=\"1\" class=\"dataframe\">\n",
       "  <thead>\n",
       "    <tr style=\"text-align: right;\">\n",
       "      <th></th>\n",
       "      <th>salary_id</th>\n",
       "      <th>job_id</th>\n",
       "      <th>max_salary</th>\n",
       "      <th>med_salary</th>\n",
       "      <th>min_salary</th>\n",
       "      <th>pay_period</th>\n",
       "      <th>currency</th>\n",
       "      <th>compensation_type</th>\n",
       "    </tr>\n",
       "  </thead>\n",
       "  <tbody>\n",
       "    <tr>\n",
       "      <th>0</th>\n",
       "      <td>1</td>\n",
       "      <td>3378133231</td>\n",
       "      <td>30.0</td>\n",
       "      <td>NaN</td>\n",
       "      <td>22.0</td>\n",
       "      <td>HOURLY</td>\n",
       "      <td>USD</td>\n",
       "      <td>BASE_SALARY</td>\n",
       "    </tr>\n",
       "    <tr>\n",
       "      <th>1</th>\n",
       "      <td>2</td>\n",
       "      <td>3690843087</td>\n",
       "      <td>65000.0</td>\n",
       "      <td>NaN</td>\n",
       "      <td>55000.0</td>\n",
       "      <td>YEARLY</td>\n",
       "      <td>USD</td>\n",
       "      <td>BASE_SALARY</td>\n",
       "    </tr>\n",
       "    <tr>\n",
       "      <th>2</th>\n",
       "      <td>3</td>\n",
       "      <td>3691794313</td>\n",
       "      <td>22.0</td>\n",
       "      <td>NaN</td>\n",
       "      <td>19.0</td>\n",
       "      <td>HOURLY</td>\n",
       "      <td>USD</td>\n",
       "      <td>BASE_SALARY</td>\n",
       "    </tr>\n",
       "    <tr>\n",
       "      <th>3</th>\n",
       "      <td>4</td>\n",
       "      <td>3691795389</td>\n",
       "      <td>70000.0</td>\n",
       "      <td>NaN</td>\n",
       "      <td>68000.0</td>\n",
       "      <td>YEARLY</td>\n",
       "      <td>USD</td>\n",
       "      <td>BASE_SALARY</td>\n",
       "    </tr>\n",
       "    <tr>\n",
       "      <th>4</th>\n",
       "      <td>5</td>\n",
       "      <td>3691797089</td>\n",
       "      <td>22.0</td>\n",
       "      <td>NaN</td>\n",
       "      <td>18.0</td>\n",
       "      <td>HOURLY</td>\n",
       "      <td>USD</td>\n",
       "      <td>BASE_SALARY</td>\n",
       "    </tr>\n",
       "  </tbody>\n",
       "</table>\n",
       "</div>"
      ],
      "text/plain": [
       "   salary_id      job_id  max_salary  med_salary  min_salary pay_period  \\\n",
       "0          1  3378133231        30.0         NaN        22.0     HOURLY   \n",
       "1          2  3690843087     65000.0         NaN     55000.0     YEARLY   \n",
       "2          3  3691794313        22.0         NaN        19.0     HOURLY   \n",
       "3          4  3691795389     70000.0         NaN     68000.0     YEARLY   \n",
       "4          5  3691797089        22.0         NaN        18.0     HOURLY   \n",
       "\n",
       "  currency compensation_type  \n",
       "0      USD       BASE_SALARY  \n",
       "1      USD       BASE_SALARY  \n",
       "2      USD       BASE_SALARY  \n",
       "3      USD       BASE_SALARY  \n",
       "4      USD       BASE_SALARY  "
      ]
     },
     "execution_count": 22,
     "metadata": {},
     "output_type": "execute_result"
    }
   ],
   "source": [
    "df_salaries = pd.read_csv(\"./data/linkedin-job-postings/job_details/salaries.csv\")\n",
    "df_salaries.head(5)"
   ]
  },
  {
   "cell_type": "code",
   "execution_count": 62,
   "metadata": {},
   "outputs": [
    {
     "name": "stdout",
     "output_type": "stream",
     "text": [
      "+---------+----------+----------+----------+----------+----------+--------+-----------------+\n",
      "|salary_id|    job_id|max_salary|med_salary|min_salary|pay_period|currency|compensation_type|\n",
      "+---------+----------+----------+----------+----------+----------+--------+-----------------+\n",
      "|        1|3378133231|      30.0|      null|      22.0|    HOURLY|     USD|      BASE_SALARY|\n",
      "|        2|3690843087|   65000.0|      null|   55000.0|    YEARLY|     USD|      BASE_SALARY|\n",
      "|        3|3691794313|      22.0|      null|      19.0|    HOURLY|     USD|      BASE_SALARY|\n",
      "|        4|3691795389|   70000.0|      null|   68000.0|    YEARLY|     USD|      BASE_SALARY|\n",
      "|        5|3691797089|      22.0|      null|      18.0|    HOURLY|     USD|      BASE_SALARY|\n",
      "|        6|3691797249|      26.0|      null|      21.0|    HOURLY|     USD|      BASE_SALARY|\n",
      "|        7|3691797979|  120250.0|      null|   98924.0|    YEARLY|     USD|      BASE_SALARY|\n",
      "|        8|3691798879|   85000.0|      null|   75000.0|    YEARLY|     USD|      BASE_SALARY|\n",
      "|        9|3691799449|  135000.0|      null|  120000.0|    YEARLY|     USD|      BASE_SALARY|\n",
      "|       10|3691799471|  135300.0|      null|   98400.0|    YEARLY|     USD|      BASE_SALARY|\n",
      "+---------+----------+----------+----------+----------+----------+--------+-----------------+\n",
      "only showing top 10 rows\n",
      "\n"
     ]
    }
   ],
   "source": [
    "# Define the Spark schema\n",
    "salary_schema = StructType([\n",
    "    StructField(\"salary_id\", StringType(), True),\n",
    "    StructField(\"job_id\", StringType(), True),\n",
    "    StructField(\"max_salary\", FloatType(), True),\n",
    "    StructField(\"med_salary\", FloatType(), True),\n",
    "    StructField(\"min_salary\", FloatType(), True),\n",
    "    StructField(\"pay_period\", StringType(), True),\n",
    "    StructField(\"currency\", StringType(), True),\n",
    "    StructField(\"compensation_type\", StringType(), True)\n",
    "])\n",
    "\n",
    "\n",
    "df_salaries = spark.read \\\n",
    "    .schema(salary_schema) \\\n",
    "    .csv(\"./data/linkedin-job-postings/job_details/salaries.csv\", header=True)\n",
    "\n",
    "df_salaries.show(10)"
   ]
  },
  {
   "cell_type": "code",
   "execution_count": 64,
   "metadata": {},
   "outputs": [],
   "source": [
    "df_salaries.repartition(5).write.parquet(\"./data/pq-linkedin-job-postings/pq_salaries/\", mode=\"overwrite\")"
   ]
  },
  {
   "cell_type": "markdown",
   "metadata": {},
   "source": [
    "### job_details/benefits.csv"
   ]
  },
  {
   "cell_type": "code",
   "execution_count": 65,
   "metadata": {},
   "outputs": [
    {
     "data": {
      "text/html": [
       "<div>\n",
       "<style scoped>\n",
       "    .dataframe tbody tr th:only-of-type {\n",
       "        vertical-align: middle;\n",
       "    }\n",
       "\n",
       "    .dataframe tbody tr th {\n",
       "        vertical-align: top;\n",
       "    }\n",
       "\n",
       "    .dataframe thead th {\n",
       "        text-align: right;\n",
       "    }\n",
       "</style>\n",
       "<table border=\"1\" class=\"dataframe\">\n",
       "  <thead>\n",
       "    <tr style=\"text-align: right;\">\n",
       "      <th></th>\n",
       "      <th>job_id</th>\n",
       "      <th>inferred</th>\n",
       "      <th>type</th>\n",
       "    </tr>\n",
       "  </thead>\n",
       "  <tbody>\n",
       "    <tr>\n",
       "      <th>0</th>\n",
       "      <td>3690843087</td>\n",
       "      <td>0</td>\n",
       "      <td>Medical insurance</td>\n",
       "    </tr>\n",
       "    <tr>\n",
       "      <th>1</th>\n",
       "      <td>3690843087</td>\n",
       "      <td>0</td>\n",
       "      <td>Dental insurance</td>\n",
       "    </tr>\n",
       "    <tr>\n",
       "      <th>2</th>\n",
       "      <td>3690843087</td>\n",
       "      <td>0</td>\n",
       "      <td>401(k)</td>\n",
       "    </tr>\n",
       "    <tr>\n",
       "      <th>3</th>\n",
       "      <td>3690843087</td>\n",
       "      <td>0</td>\n",
       "      <td>Paid maternity leave</td>\n",
       "    </tr>\n",
       "    <tr>\n",
       "      <th>4</th>\n",
       "      <td>3690843087</td>\n",
       "      <td>0</td>\n",
       "      <td>Disability insurance</td>\n",
       "    </tr>\n",
       "  </tbody>\n",
       "</table>\n",
       "</div>"
      ],
      "text/plain": [
       "       job_id  inferred                  type\n",
       "0  3690843087         0     Medical insurance\n",
       "1  3690843087         0      Dental insurance\n",
       "2  3690843087         0                401(k)\n",
       "3  3690843087         0  Paid maternity leave\n",
       "4  3690843087         0  Disability insurance"
      ]
     },
     "execution_count": 65,
     "metadata": {},
     "output_type": "execute_result"
    }
   ],
   "source": [
    "df_benefits = pd.read_csv(\"./data/linkedin-job-postings/job_details/benefits.csv\")\n",
    "df_benefits.head(5)"
   ]
  },
  {
   "cell_type": "code",
   "execution_count": 67,
   "metadata": {},
   "outputs": [
    {
     "name": "stdout",
     "output_type": "stream",
     "text": [
      "+----------+--------+--------------------+\n",
      "|    job_id|inferred|                type|\n",
      "+----------+--------+--------------------+\n",
      "|3690843087|       0|   Medical insurance|\n",
      "|3690843087|       0|    Dental insurance|\n",
      "|3690843087|       0|              401(k)|\n",
      "|3690843087|       0|Paid maternity leave|\n",
      "|3690843087|       0|Disability insurance|\n",
      "|3690843087|       0|    Vision insurance|\n",
      "|3691763971|       1|    Dental insurance|\n",
      "|3691763971|       1|Disability insurance|\n",
      "|3691763971|       1|              401(k)|\n",
      "|3691775263|       0|   Medical insurance|\n",
      "+----------+--------+--------------------+\n",
      "only showing top 10 rows\n",
      "\n"
     ]
    }
   ],
   "source": [
    "benefit_schema = StructType([\n",
    "    StructField(\"job_id\", StringType(), True),\n",
    "    StructField(\"inferred\", StringType(), True),\n",
    "    StructField(\"type\", StringType(), True)\n",
    "])\n",
    "\n",
    "\n",
    "df_benefit = spark.read \\\n",
    "    .schema(benefit_schema) \\\n",
    "    .csv(\"./data/linkedin-job-postings/job_details/benefits.csv\", header=True)\n",
    "\n",
    "df_benefit.show(10)"
   ]
  },
  {
   "cell_type": "code",
   "execution_count": 68,
   "metadata": {},
   "outputs": [],
   "source": [
    "df_benefit.repartition(5).write.parquet(\"./data/pq-linkedin-job-postings/pq_benefits/\", mode=\"overwrite\")"
   ]
  },
  {
   "cell_type": "markdown",
   "metadata": {},
   "source": [
    "### maps/industries.csv"
   ]
  },
  {
   "cell_type": "code",
   "execution_count": 73,
   "metadata": {},
   "outputs": [
    {
     "name": "stdout",
     "output_type": "stream",
     "text": [
      "+-----------+--------------------+\n",
      "|industry_id|       industry_name|\n",
      "+-----------+--------------------+\n",
      "|          1|Defense and Space...|\n",
      "|          3|Computer Hardware...|\n",
      "|          4|Software Development|\n",
      "|          5|Computer Networki...|\n",
      "|          6|Technology, Infor...|\n",
      "|          7|Semiconductor Man...|\n",
      "|          8|  Telecommunications|\n",
      "|          9|        Law Practice|\n",
      "|         10|      Legal Services|\n",
      "|         11|Business Consulti...|\n",
      "+-----------+--------------------+\n",
      "only showing top 10 rows\n",
      "\n"
     ]
    }
   ],
   "source": [
    "industry_schema = StructType([\n",
    "    StructField(\"industry_id\", StringType(), True),\n",
    "    StructField(\"industry_name\", StringType(), True)\n",
    "])\n",
    "\n",
    "\n",
    "df_industry = spark.read \\\n",
    "    .schema(industry_schema) \\\n",
    "    .csv(\"./data/linkedin-job-postings/maps/industries.csv\", header=True)\n",
    "\n",
    "df_industry.show(10)"
   ]
  },
  {
   "cell_type": "code",
   "execution_count": 74,
   "metadata": {},
   "outputs": [],
   "source": [
    "df_industry.write.parquet(\"./data/pq-linkedin-job-postings/seeds/industries.parquet\", mode=\"overwrite\")"
   ]
  },
  {
   "cell_type": "markdown",
   "metadata": {},
   "source": [
    "### maps/skills.csv"
   ]
  },
  {
   "cell_type": "code",
   "execution_count": 75,
   "metadata": {},
   "outputs": [
    {
     "name": "stdout",
     "output_type": "stream",
     "text": [
      "+---------+------------------+\n",
      "|skill_abr|        skill_name|\n",
      "+---------+------------------+\n",
      "|     PRCH|        Purchasing|\n",
      "|     SUPL|      Supply Chain|\n",
      "|       PR|  Public Relations|\n",
      "|      SCI|           Science|\n",
      "|     STRA| Strategy/Planning|\n",
      "|      WRT|   Writing/Editing|\n",
      "|       QA| Quality Assurance|\n",
      "|     DIST|      Distribution|\n",
      "|     PROD|        Production|\n",
      "|     PRJM|Project Management|\n",
      "+---------+------------------+\n",
      "only showing top 10 rows\n",
      "\n"
     ]
    }
   ],
   "source": [
    "skills_schema = StructType([\n",
    "    StructField(\"skill_abr\", StringType(), True),\n",
    "    StructField(\"skill_name\", StringType(), True)\n",
    "])\n",
    "\n",
    "\n",
    "df_skills = spark.read \\\n",
    "    .schema(skills_schema) \\\n",
    "    .csv(\"./data/linkedin-job-postings/maps/skills.csv\", header=True)\n",
    "\n",
    "df_skills.show(10)"
   ]
  },
  {
   "cell_type": "code",
   "execution_count": 76,
   "metadata": {},
   "outputs": [],
   "source": [
    "df_skills.write.parquet(\"./data/pq-linkedin-job-postings/seeds/skills.parquet\", mode=\"overwrite\")"
   ]
  },
  {
   "cell_type": "code",
   "execution_count": null,
   "metadata": {},
   "outputs": [],
   "source": []
  }
 ],
 "metadata": {
  "kernelspec": {
   "display_name": "Python 3 (ipykernel)",
   "language": "python",
   "name": "python3"
  },
  "language_info": {
   "codemirror_mode": {
    "name": "ipython",
    "version": 3
   },
   "file_extension": ".py",
   "mimetype": "text/x-python",
   "name": "python",
   "nbconvert_exporter": "python",
   "pygments_lexer": "ipython3",
   "version": "3.11.5"
  }
 },
 "nbformat": 4,
 "nbformat_minor": 2
}
